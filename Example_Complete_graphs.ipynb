{
 "cells": [
  {
   "cell_type": "code",
   "execution_count": 9,
   "metadata": {},
   "outputs": [],
   "source": [
    "import networkx as nx\n",
    "from types_definition import * \n",
    "import vector\n",
    "from vector import Vector\n",
    "from rotorconfig import RotorConfig\n",
    "from rotorgraph import *\n",
    "from particleconfig import ParticleConfig\n",
    "from matrices import Matrix\n",
    "from arcsum import ArcSum\n",
    "import numpy as np\n",
    "from smithnormalform import matrix, snfproblem, z\n",
    "from otherfunctions import *\n",
    "import random\n",
    "\n",
    "import matplotlib.pyplot as plt\n",
    "\n",
    "\n"
   ]
  },
  {
   "cell_type": "code",
   "execution_count": 10,
   "metadata": {},
   "outputs": [
    {
     "name": "stdout",
     "output_type": "stream",
     "text": [
      "[0 0 0 0 0]\n",
      "[-1 4 -1 -1 -1]\n",
      "[-1 -1 4 -1 -1]\n",
      "[-1 -1 -1 4 -1]\n",
      "[0 0 0 0 0]\n",
      "\n",
      "{0, 4}\n",
      "[[ 1  0  0]\n",
      " [ 0  5  0]\n",
      " [ 0  0 10]]\n",
      "[[  1   7 -11]\n",
      " [  0   2  -3]\n",
      " [  0   1  -1]]\n"
     ]
    }
   ],
   "source": [
    "#Creation du graph complet avec puits et obtention des Laplaciens\n",
    "sinks=None\n",
    "n=5\n",
    "sinks = {0,n-1}\n",
    "#sinks = {0}\n",
    "rg = RotorGraph.complete_graph_with_sink(n, sinks)\n",
    "rotor_graph = rg.remove_sink_out_edges(sinks)\n",
    "\n",
    "\n",
    "L= rotor_graph.laplacian_matrix()\n",
    "rL=rotor_graph.reduced_laplacian_matrix()\n",
    "#print(L, \"\\n\\n\", rL)\n",
    "\n",
    "#SNF du Laplacien\n",
    "prob = rL.snf_problem()\n",
    "\n",
    "print(L)\n",
    "\n",
    "print(sinks)\n",
    "MatrixT = Matrix(prob.T)\n",
    "MatrixT = MatrixT.to_numpy()\n",
    "\n",
    "MatrixJ = Matrix(prob.J)\n",
    "MatrixJ = MatrixJ.to_numpy()\n",
    "\n",
    "print(MatrixJ)\n",
    "print(MatrixT)"
   ]
  },
  {
   "cell_type": "code",
   "execution_count": 11,
   "metadata": {},
   "outputs": [
    {
     "ename": "NameError",
     "evalue": "name 'complete_graph_with_sink_con' is not defined",
     "output_type": "error",
     "traceback": [
      "\u001b[0;31m---------------------------------------------------------------------------\u001b[0m",
      "\u001b[0;31mNameError\u001b[0m                                 Traceback (most recent call last)",
      "Cell \u001b[0;32mIn[11], line 4\u001b[0m\n\u001b[1;32m      2\u001b[0m sinks\u001b[38;5;241m=\u001b[39m\u001b[38;5;28;01mNone\u001b[39;00m\n\u001b[1;32m      3\u001b[0m n\u001b[38;5;241m=\u001b[39m\u001b[38;5;241m5\u001b[39m\n\u001b[0;32m----> 4\u001b[0m rotor_graph \u001b[38;5;241m=\u001b[39m \u001b[43mcomplete_graph_with_sink_con\u001b[49m(n)\n\u001b[1;32m      8\u001b[0m L\u001b[38;5;241m=\u001b[39m rotor_graph\u001b[38;5;241m.\u001b[39mlaplacian_matrix()\n\u001b[1;32m      9\u001b[0m rL\u001b[38;5;241m=\u001b[39mrotor_graph\u001b[38;5;241m.\u001b[39mreduced_laplacian_matrix()\n",
      "\u001b[0;31mNameError\u001b[0m: name 'complete_graph_with_sink_con' is not defined"
     ]
    }
   ],
   "source": [
    "#Creation du graph complet avec puits et obtention des Laplaciens\n",
    "sinks=None\n",
    "n=5\n",
    "rotor_graph = complete_graph_with_sink_con(n)\n",
    "\n",
    "\n",
    "\n",
    "L= rotor_graph.laplacian_matrix()\n",
    "rL=rotor_graph.reduced_laplacian_matrix()\n",
    "#print(L, \"\\n\\n\", rL)\n",
    "\n",
    "#print(L)\n",
    "\n",
    "prob = L.snf_problem()\n",
    "\n",
    "#print(sinks)\n",
    "\n",
    "MatrixT = Matrix(prob.T)\n",
    "MatrixT = MatrixT.to_numpy()\n",
    "\n",
    "MatrixJ = Matrix(prob.J)\n",
    "MatrixJ = MatrixJ.to_numpy()\n",
    "\n",
    "print(MatrixJ)\n",
    "print(MatrixT)"
   ]
  },
  {
   "cell_type": "code",
   "execution_count": 12,
   "metadata": {},
   "outputs": [
    {
     "name": "stdout",
     "output_type": "stream",
     "text": [
      "None\n",
      "[[1 0 0 0 0]\n",
      " [0 5 0 0 0]\n",
      " [0 0 5 0 0]\n",
      " [0 0 0 0 0]\n",
      " [0 0 0 0 0]]\n",
      "[[-1  3  4  2 -1]\n",
      " [ 0  1  1  1  0]\n",
      " [ 0  1  0  1  0]\n",
      " [ 0  0  0  1  0]\n",
      " [ 0  0  0  0  1]]\n"
     ]
    }
   ],
   "source": [
    "#SNF du Laplacien\n",
    "prob = L.snf_problem()\n",
    "\n",
    "print(sinks)\n",
    "MatrixT = Matrix(prob.T)\n",
    "MatrixT = MatrixT.to_numpy()\n",
    "\n",
    "MatrixJ = Matrix(prob.J)\n",
    "MatrixJ = MatrixJ.to_numpy()\n",
    "\n",
    "print(MatrixJ)\n",
    "print(MatrixT)"
   ]
  },
  {
   "cell_type": "code",
   "execution_count": null,
   "metadata": {},
   "outputs": [
    {
     "name": "stdout",
     "output_type": "stream",
     "text": [
      "V1 = [array([0, 0]), array([4, 9]), array([0, 1]), array([1, 9])]\n",
      "V2 = [array([0, 0]), array([3, 7]), array([2, 5]), array([2, 1])]\n",
      "V3 = [array([0, 0]), array([3, 1]), array([2, 3]), array([2, 7])]\n",
      "V4 = [array([0, 0])]\n"
     ]
    }
   ],
   "source": [
    "#n=5\n",
    "\n",
    "rho = RotorConfig(rotor_graph)\n",
    "\n",
    "harmonic_functions= [(0,[4,3,2,1,0])]#,(0,[0,1,2,3,4]),(0,[2,1,1,1,0])]\n",
    "\n",
    "harmonic_functions= [(5,[5,1,2,2,0]),(10,[10,1,3,9,0])]\n",
    "\n",
    "arcmonicfonc,orders= armonic_from_harmonic(rotor_graph, rho, harmonic_functions)\n",
    "\n",
    "#print(arcmonicfonc)\n",
    "\n",
    "arcmonicnode=arcmonic_per_node(arcmonicfonc)\n",
    "\n",
    "for i in arcmonicnode.keys():\n",
    "    print(\"V\"+str(i)+\" =\", arcmonicnode[i])"
   ]
  },
  {
   "cell_type": "markdown",
   "metadata": {},
   "source": [
    "V1 = [array([0, 0]), array([4, 1]), array([0, 9]), array([1, 9])]\n",
    "V2 = [array([0, 0]), array([3, 3]), array([2, 5]), array([2, 7])]\n",
    "V3 = [array([0, 0]), array([3, 1]), array([2, 1]), array([2, 9])]\n",
    "[(5,[0,1,2,2,0]),(10,[0,9,7,9,0])]"
   ]
  },
  {
   "cell_type": "code",
   "execution_count": null,
   "metadata": {},
   "outputs": [
    {
     "name": "stdout",
     "output_type": "stream",
     "text": [
      "[[ 1  0  0  0  0  0  0  0]\n",
      " [ 0  1  0  0  0  0  0  0]\n",
      " [ 0  0  8  0  0  0  0  0]\n",
      " [ 0  0  0  8  0  0  0  0]\n",
      " [ 0  0  0  0  8  0  0  0]\n",
      " [ 0  0  0  0  0  8  0  0]\n",
      " [ 0  0  0  0  0  0 16  0]\n",
      " [ 0  0  0  0  0  0  0  0]]\n",
      "[[ -1   1   0   0   0   0   0   1]\n",
      " [  1   0  -1   5  -1  10 -17   1]\n",
      " [  0   0   0   1   0   2  -3   1]\n",
      " [  0   0   1   1   0   1  -1   1]\n",
      " [  0   0   0   1   0   1  -1   1]\n",
      " [  0   0   0   0   1   1  -1   1]\n",
      " [  0   0   0   0   0   1  -1   1]\n",
      " [  0   0   0   0   0   0   0   1]]\n"
     ]
    }
   ],
   "source": [
    "#Creation du graph complet avec puits et obtention des Laplaciens\n",
    "sinks=None\n",
    "n=8\n",
    "rotor_graph = complete_graph_with_sink_con(n)\n",
    "\n",
    "\n",
    "\n",
    "L= rotor_graph.laplacian_matrix()\n",
    "rL=rotor_graph.reduced_laplacian_matrix()\n",
    "#print(L, \"\\n\\n\", rL)\n",
    "\n",
    "#print(L)\n",
    "\n",
    "prob = L.snf_problem()\n",
    "\n",
    "#print(sinks)\n",
    "\n",
    "MatrixT = Matrix(prob.T)\n",
    "MatrixT = MatrixT.to_numpy()\n",
    "\n",
    "MatrixJ = Matrix(prob.J)\n",
    "MatrixJ = MatrixJ.to_numpy()\n",
    "\n",
    "print(MatrixJ)\n",
    "print(MatrixT)"
   ]
  },
  {
   "cell_type": "code",
   "execution_count": null,
   "metadata": {},
   "outputs": [
    {
     "name": "stdout",
     "output_type": "stream",
     "text": [
      "V1 = [array([0, 0, 0, 0, 0]), array([0, 0, 0, 7, 1]), array([0, 0, 1, 7, 1]), array([0, 1, 1, 7, 1]), array([1, 2, 1, 7, 1]), array([ 1,  3,  1,  0, 15]), array([ 0,  0,  0,  1, 15])]\n",
      "V2 = [array([0, 0, 0, 0, 0]), array([0, 0, 7, 7, 1]), array([0, 0, 6, 7, 1]), array([0, 1, 5, 7, 1]), array([1, 2, 4, 7, 1]), array([ 1,  3,  3,  0, 15]), array([ 0,  0,  1,  1, 15])]\n",
      "V3 = [array([0, 0, 0, 0, 0]), array([0, 7, 0, 7, 1]), array([0, 6, 0, 7, 1]), array([0, 5, 1, 7, 1]), array([1, 5, 1, 7, 1]), array([ 1,  5,  1,  0, 15]), array([ 0,  1,  0,  1, 15])]\n",
      "V4 = [array([0, 0, 0, 0, 0]), array([7, 7, 0, 7, 1]), array([6, 6, 0, 7, 1]), array([5, 5, 1, 7, 1]), array([4, 5, 1, 7, 1]), array([ 3,  5,  1,  0, 15]), array([ 1,  1,  0,  1, 15])]\n",
      "V5 = [array([0, 0, 0, 0, 0]), array([0, 7, 0, 6, 3]), array([0, 6, 0, 5, 5]), array([0, 5, 1, 4, 7]), array([0, 5, 1, 3, 9]), array([ 1,  5,  1,  2, 11]), array([ 0,  1,  0,  2, 13])]\n",
      "V6 = [array([0, 0, 0, 0, 0]), array([1, 3, 1, 6, 1]), array([2, 6, 2, 5, 1]), array([3, 1, 4, 4, 1]), array([4, 5, 5, 3, 1]), array([6, 1, 6, 2, 1]), array([ 7,  5,  7,  2, 15])]\n",
      "V7 = [array([0, 0, 0, 0, 0])]\n"
     ]
    }
   ],
   "source": [
    "rho = RotorConfig(rotor_graph)\n",
    "\n",
    "harmonic_functions= [(0,[4,3,2,1,0])]#,(0,[0,1,2,3,4]),(0,[2,1,1,1,0])]\n",
    "\n",
    "\n",
    "\n",
    "harmonic_functions= [(8,[0, 0, 0, 0, 1, 0, -1, 0]),\n",
    "                     (8,[0, 0, 0, 1, 1, 1, 5, 0]),\n",
    "                     (8,[0, 0, 1, 0, 0, 0, -1, 0]),\n",
    "                     (8,[0, 1, 1, 1, 1, 2, 10, 0]),\n",
    "                    (16,[0,-1,-1,-1,-1,-3,-17, 0])]\n",
    "\n",
    "arcmonicfonc,orders= armonic_from_harmonic(rotor_graph, rho, harmonic_functions)\n",
    "\n",
    "#print(arcmonicfonc)\n",
    "\n",
    "arcmonicnode=arcmonic_per_node(arcmonicfonc)\n",
    "\n",
    "for i in arcmonicnode.keys():\n",
    "    print(\"V\"+str(i)+\" =\", arcmonicnode[i])"
   ]
  },
  {
   "cell_type": "markdown",
   "metadata": {},
   "source": []
  },
  {
   "cell_type": "code",
   "execution_count": null,
   "metadata": {},
   "outputs": [
    {
     "name": "stdout",
     "output_type": "stream",
     "text": [
      "60\n",
      "50\n",
      "[0 0]\n",
      "[0 1]\n",
      "[0 2]\n",
      "[0 3]\n",
      "[0 4]\n",
      "[0 5]\n",
      "[0 6]\n",
      "[0 7]\n",
      "[0 8]\n",
      "[0 9]\n",
      "[1 0]\n",
      "[1 1]\n",
      "[1 2]\n",
      "[1 3]\n",
      "[1 4]\n",
      "[1 5]\n",
      "[1 6]\n",
      "[1 7]\n",
      "[1 8]\n",
      "[1 9]\n",
      "[2 0]\n",
      "[2 1]\n",
      "[2 2]\n",
      "[2 3]\n",
      "[2 4]\n",
      "[2 5]\n",
      "[2 6]\n",
      "[2 7]\n",
      "[2 8]\n",
      "[2 9]\n",
      "[3 0]\n",
      "[3 1]\n",
      "[3 2]\n",
      "[3 3]\n",
      "[3 4]\n",
      "[3 5]\n",
      "[3 6]\n",
      "[3 7]\n",
      "[3 8]\n",
      "[3 9]\n",
      "[4 0]\n",
      "[4 1]\n",
      "[4 2]\n",
      "[4 3]\n",
      "[4 4]\n",
      "[4 5]\n",
      "[4 6]\n",
      "[4 7]\n",
      "[4 8]\n",
      "[4 9]\n"
     ]
    }
   ],
   "source": [
    "#complete graph on 5 vertices with one sinks: 0\n",
    "\n",
    "from itertools import product\n",
    "import numpy as np\n",
    "\n",
    "def product_sums(*listes):\n",
    "\n",
    "    combinaisons = product(*listes)\n",
    "    resultats = [sum(combinaison) for combinaison in combinaisons]\n",
    "    \n",
    "    return resultats\n",
    "\n",
    "\n",
    "\n",
    "\n",
    "V1 = [np.array([0, 0]), np.array([4, 1]), np.array([0, 9]), np.array([1, 9])]\n",
    "V2 = [np.array([0, 0]), np.array([3, 3]), np.array([2, 5]), np.array([2, 7])]\n",
    "V3 = [np.array([0, 0]), np.array([3, 1]), np.array([2, 1]), np.array([2, 9])]\n",
    "V4 = [np.array([0, 0])]\n",
    "\n",
    "\n",
    "n=5\n",
    "orders= [5, 10]\n",
    "\n",
    "resultats = product_sums(V1,V2,V3)\n",
    "\n",
    "\n",
    "ensemble_unique = set(map(tuple, resultats))\n",
    "pav = [np.array(x) for x in ensemble_unique]\n",
    "matrice=np.stack(pav)\n",
    "\n",
    "print(len(matrice))\n",
    "\n",
    "#print(len(pav))\n",
    "\n",
    "\n",
    "\n",
    "\n",
    "\n",
    "matrice2 = []\n",
    "for element in matrice:\n",
    "     matrice2.append([element[i]%orders[i] for i in range(len(element))])\n",
    "\n",
    "\n",
    "matrice2 = np.array(matrice2)\n",
    "matrice = np.unique(matrice2, axis=0)\n",
    "print(len(matrice))\n",
    "\n",
    "\n",
    "for element in matrice:\n",
    "     print(element)\n",
    "\n",
    "\n",
    "# #matrice= ensemble des valeurs arcmonique modulo l'ordre\n",
    "\n",
    "\n",
    "\n",
    "# ######################## Juste pour tester que toutes les valeur sont bien prises pour les valeurs \n",
    "# #arcmoniques allant de 1 jusqu'à n-3\n",
    "# matrice3 = []\n",
    "# for element in matrice2:\n",
    "#      matrice3.append([element[i] for i in range(len(element)-1)])\n",
    "\n",
    "# matrice3 = np.array(matrice3)\n",
    "# matrice3 = np.unique(matrice3, axis=0)\n",
    "# print(len(matrice3))\n",
    "# print(\"matrice3\\n\",matrice3)\n",
    "\n",
    "# # ###matrice3 regroupe les valeurs acrmonique sans prendre en compte la composante  en 0\n",
    "# # ###qui compte le nombre d'arcs ne pointant par vers le sommet 0 et la valeur arcmonique en n-2 ajouter.\n",
    "# # ###########################\n",
    "\n",
    "\n",
    "\n",
    "# dico = dict()\n",
    "# for element in matrice2:\n",
    "#     np_array_recherche = tuple(element[:-1])  # Convertir la liste en tuple\n",
    "#     if np_array_recherche not in dico.keys():\n",
    "#         dico[np_array_recherche] = []\n",
    "#     dico[np_array_recherche].append(element)\n",
    "\n",
    "# print(len(dico))\n",
    "\n",
    "# #print(dico)\n",
    "\n",
    "# dico2= dict()\n",
    "\n",
    "\n",
    "\n",
    "\n",
    "\n",
    "# # for cle in dico.keys():\n",
    "# #     print (dico[cle])\n",
    "\n",
    "# for element in matrice3:\n",
    "#     cle = tuple(element[:]) \n",
    "#     pos= [ dico[cle][i] for i in range(len(dico[cle]))]\n",
    "#     #print(cle,\":\",sorted(pos) )\n",
    "#     dico2[cle] = pos\n",
    "\n",
    "\n",
    "\n",
    "# #print(dico2)\n",
    "\n",
    "# for cle in dico2.keys():\n",
    "#     print(cle, \":\", dico2[cle])\n",
    "\n",
    "\n",
    "\n",
    "# # def regrouper_par_valeur(dictionnaire):\n",
    "# #     regroupement = {}\n",
    "# #     for cle, valeur in dictionnaire.items():\n",
    "# #         if valeur not in regroupement:\n",
    "# #             regroupement[valeur] = [cle]\n",
    "# #         else:\n",
    "# #             regroupement[valeur].append(cle)\n",
    "# #     return regroupement\n",
    "\n",
    "\n",
    "\n",
    "# # regroupement = regrouper_par_valeur(dico2)\n",
    "\n",
    "# # for el in regroupement.keys():\n",
    "# #     print(el,regroupement[el])\n",
    "\n",
    "\n",
    "# # for cle in regroupement.keys():\n",
    "# #     print(cle, len(regroupement[cle]))\n",
    "# #     for truc in regroupement[cle]:\n",
    "# #         truc = list(truc)\n",
    "# #         print(sum(truc)%n, end=\" \")\n",
    "    \n",
    "\n",
    "# #     print()\n"
   ]
  },
  {
   "cell_type": "code",
   "execution_count": 13,
   "metadata": {},
   "outputs": [
    {
     "name": "stdout",
     "output_type": "stream",
     "text": [
      "{(1, 0, 0): 1, (1, 3, 0): 1, (2, 0, 0): 1}\n",
      "[(1, 0), (1, 2), (1, 3), (2, 0), (2, 1), (2, 3)]\n",
      "{(1, 2, 0): {(1, 0, 0): -1, (1, 2, 0): 2, (2, 1, 0): -1, (1, 3, 0): -1, (2, 0, 0): 1}, (2, 1, 0): {(1, 0, 0): -1, (1, 2, 0): 1, (2, 1, 0): -2, (2, 0, 0): 1, (2, 3, 0): 1}, (2, 3, 0): {(1, 2, 0): 1, (2, 1, 0): -1, (1, 0, 0): -2, (2, 0, 0): 2, (1, 3, 0): 1, (2, 3, 0): -1}}\n",
      "[[-1  2 -1  1 -1  0]\n",
      " [-1  1  0  1 -2  1]\n",
      " [-2  1  1  2 -1 -1]]\n"
     ]
    }
   ],
   "source": [
    "n=4\n",
    "sinks = {0,n-1}\n",
    "#sinks = {0}\n",
    "\n",
    "\n",
    "rg= RotorGraph.complete_graph_with_sink(n, sinks)\n",
    "rotor_graph = rg.remove_sink_out_edges(sinks)\n",
    "\n",
    "print(rotor_graph.spanning_vector())\n",
    "print(rotor_graph.edges())\n",
    "print(rotor_graph.cycle_push_matrix_dict())\n",
    "#print(rotor_graph.cycle_push_matrix())\n",
    "\n",
    "\n",
    "MatrixCP = Matrix(rotor_graph.cycle_push_matrix())\n",
    "\n",
    "MatrixCP = MatrixCP.to_numpy()\n",
    "print(MatrixCP)"
   ]
  },
  {
   "cell_type": "markdown",
   "metadata": {},
   "source": [
    "{(1, 0, 0): 1, (1, 3, 0): 1, (2, 0, 0): 1}\n",
    "[(1, 0), (1, 2), (1, 3), (2, 0), (2, 1), (2, 3)]\n",
    "\n",
    "{\n",
    "(1, 2, 0): {(1, 0, 0): -1, (1, 2, 0): 2, (2, 1, 0): -1, (1, 3, 0): -1, (2, 0, 0): 1}, \n",
    "(2, 1, 0): {(1, 0, 0): -1, (1, 2, 0): 1, (2, 1, 0): -2, (2, 0, 0): 1, (2, 3, 0): 1}, \n",
    "(2, 3, 0): {(1, 2, 0): 1, (2, 1, 0): -1, (1, 0, 0): -2, (2, 0, 0): 2, (1, 3, 0): 1, (2, 3, 0): -1}\n",
    "}\n",
    "\n",
    "[(1, 0), (1, 2), (1, 3), (2, 0), (2, 1), (2, 3)]\n",
    "[[-1  2 -1  1 -1  0]\n",
    " [-1  1  0  1 -2  1]\n",
    " [-2  1  1  2 -1 -1]]"
   ]
  },
  {
   "cell_type": "code",
   "execution_count": 14,
   "metadata": {},
   "outputs": [],
   "source": [
    "[(1, 0), (1, 2), (1, 3), (2, 0), (2, 1), (2, 3)]\n",
    "v= np.array([0,0,1,0,0,1])\n",
    "\n",
    "\n",
    "v1= np.array([-1,  2, -1,  1, -1,  0])\n",
    "v2= np.array([-1,  1,  0,  1, -2,  1])\n",
    "v3= np.array([-2,  1,  1,  2, -1, -1])\n",
    "\n",
    "\n",
    "\n",
    "c1= random.randint(-2,2)\n",
    "c3= random.randint(-1,1)\n",
    "c2= random.randint(-3,3)\n",
    "v = v+ c1*v1 + c2*v2 + c3*v3\n",
    "\n",
    "#\n"
   ]
  },
  {
   "cell_type": "code",
   "execution_count": null,
   "metadata": {},
   "outputs": [
    {
     "name": "stdout",
     "output_type": "stream",
     "text": [
      "[ 2 -3  2 -2  3  0] -1 -1 0\n"
     ]
    }
   ],
   "source": [
    "print(v,c1,c2,c3)"
   ]
  },
  {
   "cell_type": "code",
   "execution_count": null,
   "metadata": {},
   "outputs": [
    {
     "name": "stdout",
     "output_type": "stream",
     "text": [
      "[-5  2  3  5 -5  0]\n"
     ]
    }
   ],
   "source": [
    "print( c1*v1 + c2*v2 + c3*v3)\n"
   ]
  },
  {
   "cell_type": "code",
   "execution_count": null,
   "metadata": {},
   "outputs": [
    {
     "name": "stdout",
     "output_type": "stream",
     "text": [
      "[ 0  1 -1  0  1 -1]\n"
     ]
    }
   ],
   "source": [
    "v= np.array([ 7, -7,  1, -7,  2,  6])\n",
    "v+=7*v1 \n",
    "\n",
    "print(v1-v2)\n",
    "\n"
   ]
  },
  {
   "cell_type": "code",
   "execution_count": null,
   "metadata": {},
   "outputs": [
    {
     "data": {
      "text/plain": [
       "array([ 3,  4, -6, -3,  1,  3])"
      ]
     },
     "execution_count": 10,
     "metadata": {},
     "output_type": "execute_result"
    }
   ],
   "source": [
    "v+= -3*v2\n",
    "v"
   ]
  },
  {
   "cell_type": "code",
   "execution_count": null,
   "metadata": {},
   "outputs": [],
   "source": []
  },
  {
   "cell_type": "markdown",
   "metadata": {},
   "source": [
    "v1= np.array([-1,  2, -1,  1, -1,  0])\n",
    "v2= np.array([-1,  1,  0,  1, -2,  1])\n",
    "v3= np.array([-2,  1,  1,  2, -1, -1])"
   ]
  },
  {
   "cell_type": "markdown",
   "metadata": {},
   "source": [
    "{(1, 0, 0): 1, (1, 4, 0): 1, (2, 0, 0): 1, (3, 0, 0): 1}\n",
    "\n",
    "{(1, 2, 0): {(1, 0, 0): -1, (1, 2, 0): 2, (2, 1, 0): -1, (1, 3, 0): -1, (2, 0, 0): 1}, \n",
    "(1, 3, 0): {(1, 0, 0): -1, (3, 0, 0): 1, (1, 2, 0): 1, (1, 3, 0): 1, (3, 1, 0): -1, (1, 4, 0): -1}, \n",
    "(2, 1, 0): {(1, 0, 0): -1, (1, 2, 0): 1, (2, 1, 0): -2, (2, 0, 0): 1, (2, 3, 0): 1}, \n",
    "(2, 3, 0): {(3, 0, 0): -1, (2, 4, 0): 1, (2, 0, 0): 1, (2, 1, 0): -1, (3, 1, 0): 1, (2, 3, 0): -1}, \n",
    "(2, 4, 0): {(1, 2, 0): 1, (2, 1, 0): -1, (1, 4, 0): 1, (1, 0, 0): -2, (2, 4, 0): -1, (2, 0, 0): 2}, \n",
    "(3, 1, 0): {(1, 0, 0): -1, (1, 2, 0): 1, (3, 0, 0): 1, (3, 1, 0): -2, (3, 2, 0): 1}, \n",
    "(3, 2, 0): {(3, 0, 0): -1, (3, 4, 0): -1, (2, 0, 0): 1, (2, 1, 0): -1, (3, 1, 0): 1, (3, 2, 0): 1}, \n",
    "(3, 4, 0): {(3, 4, 0): -1, (1, 2, 0): 1, (3, 0, 0): 2, (3, 1, 0): -1, (1, 4, 0): 1, (1, 0, 0): -2}}\n",
    "\n",
    "\n",
    "[(1, 0), (1, 2), (1, 3), (1, 4), (2, 0), (2, 1), (2, 3), (2, 4), (3, 0), (3, 1), (3, 2), (3, 4)]\n",
    "\n",
    "[-1  2 -1  0  1 -1  0  0  0  0  0  0]\n",
    "[-1  1  1 -1  0  0  0  0  1 -1  0  0]\n",
    "[-1  1  0  0  1 -2  1  0  0  0  0  0]\n",
    "[ 0  0  0  0  1 -1 -1  1 -1  1  0  0]\n",
    "[-2  1  0  1  2 -1  0 -1  0  0  0  0]\n",
    "[-1  1  0  0  0  0  0  0  1 -2  1  0]\n",
    "[ 0  0  0  0  1 -1  0  0 -1  1  1 -1]\n",
    "[-2  1  0  1  0  0  0  0  2 -1  0 -1]\n",
    "\n",
    "\n"
   ]
  },
  {
   "cell_type": "code",
   "execution_count": null,
   "metadata": {},
   "outputs": [
    {
     "name": "stdout",
     "output_type": "stream",
     "text": [
      "{(1, 3, 0): 1, (2, 3, 0): 1}\n",
      "{(1, 3, 0): -1, (2, 3, 0): -1, (2, 1, 0): 3, (2, 0, 0): -1, (1, 0, 0): 2}\n",
      "\n",
      "Cycle None\n",
      "\n",
      "Cycle None\n"
     ]
    },
    {
     "data": {
      "text/plain": [
       "{1: (1, 0, 0), 2: (2, 3, 0)}"
      ]
     },
     "execution_count": 21,
     "metadata": {},
     "output_type": "execute_result"
    }
   ],
   "source": [
    "#Générer une config de rotor au hazard\n",
    "rho = RotorConfig(rotor_graph)\n",
    "for i in range(1,n-1):\n",
    "    eh= random.randint(0, len(rotor_graph.rotor_order[i])-1)\n",
    "    rho[i]= rotor_graph.rotor_order[i][eh]\n",
    "\n",
    "#Transformer la config de rotor en somme d'arc\n",
    "somme_arc = ArcSum(rho)\n",
    "\n",
    "print(somme_arc)\n",
    "\n",
    "#Ajouter à la somme les éléments router sur le puits 0: \n",
    "for i in range(1,n-1):\n",
    "    edge = (i, 0, 0)\n",
    "    nb = random.randint(0,n)\n",
    "    for _ in range(nb):\n",
    "        somme_arc = somme_arc + rotor_graph.turn(edge) - edge\n",
    "\n",
    "\n",
    "#Ajouter à la somme les éléments router sur le puits n-1: \n",
    "for i in range(1,n-1):\n",
    "    edge = (i, n-1, 0)\n",
    "    nb = random.randint(0,n)\n",
    "    for _ in range(nb):\n",
    "        somme_arc = somme_arc + rotor_graph.turn(edge) - edge\n",
    "\n",
    "#somme_arc = config de rotor + config obtenu apres tirage directe dans les puits 0 et n-1\n",
    "arc_sum = ArcSum(somme_arc)\n",
    "\n",
    "print(arc_sum)\n",
    "\n",
    "print(\"\\nCycle\",arc_sum.find_cycle_dp())\n",
    "print(\"\\nCycle\",arc_sum.find_cycle_dn())\n",
    "\n",
    "\n",
    "rotorconfig_in_class_by_stabilization(rotor_graph,arc_sum)"
   ]
  },
  {
   "cell_type": "code",
   "execution_count": null,
   "metadata": {},
   "outputs": [
    {
     "name": "stdout",
     "output_type": "stream",
     "text": [
      "{(1, 3, 0): -1, (2, 3, 0): -1, (2, 1, 0): 3, (2, 0, 0): -1, (1, 0, 0): 2}\n",
      "\n",
      "Cycle {(1, 3, 0): 1, (2, 3, 0): -1, (2, 1, 0): 1}\n"
     ]
    }
   ],
   "source": [
    "print(arc_sum)\n",
    "print(\"\\nCycle\",arc_sum.find_cycle())\n",
    "\n",
    "b={(1, 3, 0): -1, (2, 3, 0): -1, (2, 1, 0): 3, (2, 0, 0): -1, (1, 0, 0): 2}"
   ]
  },
  {
   "cell_type": "code",
   "execution_count": null,
   "metadata": {},
   "outputs": [
    {
     "name": "stdout",
     "output_type": "stream",
     "text": [
      "Welcome to the CBC MILP Solver \n",
      "Version: 2.10.3 \n",
      "Build Date: Dec 15 2019 \n",
      "\n",
      "command line - /home/krex/.local/lib/python3.10/site-packages/pulp/solverdir/cbc/linux/64/cbc /tmp/d6b88654c5114ca391ee61e258bbbff8-pulp.mps -timeMode elapsed -branch -printingOptions all -solution /tmp/d6b88654c5114ca391ee61e258bbbff8-pulp.sol (default strategy 1)\n",
      "At line 2 NAME          MODEL\n",
      "At line 3 ROWS\n",
      "At line 11 COLUMNS\n",
      "At line 35 RHS\n",
      "At line 42 BOUNDS\n",
      "At line 47 ENDATA\n",
      "Problem MODEL has 6 rows, 4 columns and 16 elements\n",
      "Coin0008I MODEL read with 0 errors\n",
      "Option for timeMode changed from cpu to elapsed\n",
      "Continuous objective value is 0 - 0.00 seconds\n",
      "Cgl0003I 0 fixed, 6 tightened bounds, 0 strengthened rows, 0 substitutions\n",
      "Cgl0003I 0 fixed, 2 tightened bounds, 0 strengthened rows, 0 substitutions\n",
      "Cgl0004I processed model has 6 rows, 3 columns (3 integer (0 of which binary)) and 16 elements\n",
      "Cbc0012I Integer solution of 0 found by DiveCoefficient after 0 iterations and 0 nodes (0.00 seconds)\n",
      "Cbc0001I Search completed - best objective 0, took 0 iterations and 0 nodes (0.00 seconds)\n",
      "Cbc0035I Maximum depth 0, 0 variables fixed on reduced cost\n",
      "Cuts at root node changed objective from 0 to 0\n",
      "Probing was tried 0 times and created 0 cuts of which 0 were active after adding rounds of cuts (0.000 seconds)\n",
      "Gomory was tried 0 times and created 0 cuts of which 0 were active after adding rounds of cuts (0.000 seconds)\n",
      "Knapsack was tried 0 times and created 0 cuts of which 0 were active after adding rounds of cuts (0.000 seconds)\n",
      "Clique was tried 0 times and created 0 cuts of which 0 were active after adding rounds of cuts (0.000 seconds)\n",
      "MixedIntegerRounding2 was tried 0 times and created 0 cuts of which 0 were active after adding rounds of cuts (0.000 seconds)\n",
      "FlowCover was tried 0 times and created 0 cuts of which 0 were active after adding rounds of cuts (0.000 seconds)\n",
      "TwoMirCuts was tried 0 times and created 0 cuts of which 0 were active after adding rounds of cuts (0.000 seconds)\n",
      "ZeroHalf was tried 0 times and created 0 cuts of which 0 were active after adding rounds of cuts (0.000 seconds)\n",
      "\n",
      "Result - Optimal solution found\n",
      "\n",
      "Objective value:                0.00000000\n",
      "Enumerated nodes:               0\n",
      "Total iterations:               0\n",
      "Time (CPU seconds):             0.00\n",
      "Time (Wallclock seconds):       0.00\n",
      "\n",
      "Option for printingOptions changed from normal to all\n",
      "Total time (CPU seconds):       0.00   (Wallclock seconds):       0.00\n",
      "\n",
      "Statut de la solution: Optimal\n",
      "Solution optimale:\n",
      "__dummy n'a pas de valeur attribuée\n",
      "x_0 = -1\n",
      "x_1 = 2\n",
      "x_2 = 2\n"
     ]
    }
   ],
   "source": [
    "import pulp\n",
    "\n",
    "# Définir le problème\n",
    "prob = pulp.LpProblem(\"Problème d'optimisation entière\", pulp.LpMinimize)\n",
    "\n",
    "# Définir les variables\n",
    "x = pulp.LpVariable.dicts(\"x\", range(3), lowBound=None, cat=pulp.LpInteger)\n",
    "\n",
    "# Définir les contraintes\n",
    "A = [[-1, -1, -2],\n",
    "     [ 2,  1,  1],\n",
    "     [-1,  0,  1],\n",
    "     [ 1,  1,  2],\n",
    "     [-1, -2, -1],\n",
    "     [ 0,  1, -1]]\n",
    "b = [-5,  2,  3,  5, -5,  0]\n",
    "\n",
    "for i, row in enumerate(A):\n",
    "    prob += pulp.lpSum(row[j] * x[j] for j in range(3)) <= b[i]\n",
    "\n",
    "# Résoudre le problème\n",
    "prob.solve()\n",
    "\n",
    "print(\"Statut de la solution:\", pulp.LpStatus[prob.status])\n",
    "print(\"Solution optimale:\")\n",
    "for v in prob.variables():\n",
    "    if v.varValue is not None:\n",
    "        print(v.name, \"=\", int(v.varValue))\n",
    "    else:\n",
    "        print(v.name, \"n'a pas de valeur attribuée\")\n"
   ]
  },
  {
   "cell_type": "code",
   "execution_count": null,
   "metadata": {},
   "outputs": [
    {
     "name": "stdout",
     "output_type": "stream",
     "text": [
      "Welcome to the CBC MILP Solver \n",
      "Version: 2.10.3 \n",
      "Build Date: Dec 15 2019 \n",
      "\n",
      "command line - /home/krex/.local/lib/python3.10/site-packages/pulp/solverdir/cbc/linux/64/cbc /tmp/02e4579dbe19486181811d344addad58-pulp.mps -timeMode elapsed -branch -printingOptions all -solution /tmp/02e4579dbe19486181811d344addad58-pulp.sol (default strategy 1)\n",
      "At line 2 NAME          MODEL\n",
      "At line 3 ROWS\n",
      "At line 11 COLUMNS\n",
      "At line 35 RHS\n",
      "At line 42 BOUNDS\n",
      "At line 47 ENDATA\n",
      "Problem MODEL has 6 rows, 4 columns and 16 elements\n",
      "Coin0008I MODEL read with 0 errors\n",
      "Option for timeMode changed from cpu to elapsed\n",
      "Continuous objective value is 0 - 0.00 seconds\n",
      "Cgl0003I 0 fixed, 6 tightened bounds, 0 strengthened rows, 0 substitutions\n",
      "Cgl0004I processed model has 6 rows, 3 columns (3 integer (0 of which binary)) and 16 elements\n",
      "Cbc0031I 1 added rows had average density of 2\n",
      "Cbc0013I At root node, 2 cuts changed objective from 0 to 0 in 1 passes\n",
      "Cbc0014I Cut generator 0 (Probing) - 0 row cuts average 0.0 elements, 0 column cuts (0 active)  in 0.000 seconds - new frequency is -100\n",
      "Cbc0014I Cut generator 1 (Gomory) - 1 row cuts average 2.0 elements, 0 column cuts (0 active)  in 0.000 seconds - new frequency is 1\n",
      "Cbc0014I Cut generator 2 (Knapsack) - 0 row cuts average 0.0 elements, 0 column cuts (0 active)  in 0.000 seconds - new frequency is -100\n",
      "Cbc0014I Cut generator 3 (Clique) - 0 row cuts average 0.0 elements, 0 column cuts (0 active)  in 0.000 seconds - new frequency is -100\n",
      "Cbc0014I Cut generator 4 (MixedIntegerRounding2) - 0 row cuts average 0.0 elements, 0 column cuts (0 active)  in 0.000 seconds - new frequency is -100\n",
      "Cbc0014I Cut generator 5 (FlowCover) - 0 row cuts average 0.0 elements, 0 column cuts (0 active)  in 0.000 seconds - new frequency is -100\n",
      "Cbc0014I Cut generator 6 (TwoMirCuts) - 1 row cuts average 2.0 elements, 0 column cuts (0 active)  in 0.000 seconds - new frequency is -100\n",
      "Cbc0001I Search completed - best objective 1e+50, took 0 iterations and 0 nodes (0.00 seconds)\n",
      "Cbc0035I Maximum depth 0, 0 variables fixed on reduced cost\n",
      "Cuts at root node changed objective from 0 to 0\n",
      "Probing was tried 1 times and created 0 cuts of which 0 were active after adding rounds of cuts (0.000 seconds)\n",
      "Gomory was tried 1 times and created 1 cuts of which 0 were active after adding rounds of cuts (0.000 seconds)\n",
      "Knapsack was tried 1 times and created 0 cuts of which 0 were active after adding rounds of cuts (0.000 seconds)\n",
      "Clique was tried 1 times and created 0 cuts of which 0 were active after adding rounds of cuts (0.000 seconds)\n",
      "MixedIntegerRounding2 was tried 1 times and created 0 cuts of which 0 were active after adding rounds of cuts (0.000 seconds)\n",
      "FlowCover was tried 1 times and created 0 cuts of which 0 were active after adding rounds of cuts (0.000 seconds)\n",
      "TwoMirCuts was tried 1 times and created 1 cuts of which 0 were active after adding rounds of cuts (0.000 seconds)\n",
      "ZeroHalf was tried 1 times and created 0 cuts of which 0 were active after adding rounds of cuts (0.000 seconds)\n",
      "\n",
      "Result - Problem proven infeasible\n",
      "\n",
      "No feasible solution found\n",
      "Enumerated nodes:               0\n",
      "Total iterations:               0\n",
      "Time (CPU seconds):             0.00\n",
      "Time (Wallclock seconds):       0.00\n",
      "\n",
      "Option for printingOptions changed from normal to all\n",
      "Total time (CPU seconds):       0.00   (Wallclock seconds):       0.00\n",
      "\n",
      "Statut de la solution: Infeasible\n",
      "Solution optimale:\n",
      "x_0 = 0\n",
      "x_1 = 0\n",
      "x_2 = 0\n",
      "[0.5, -0.5, -0.5]\n",
      "[1. 0. 0. 1. 0. 0.]\n"
     ]
    },
    {
     "name": "stderr",
     "output_type": "stream",
     "text": [
      "/home/krex/.local/lib/python3.10/site-packages/pulp/pulp.py:1316: UserWarning: Spaces are not permitted in the name. Converted to '_'\n",
      "  warnings.warn(\"Spaces are not permitted in the name. Converted to '_'\")\n"
     ]
    }
   ],
   "source": [
    "import pulp\n",
    "\n",
    "# Définir le problème\n",
    "prob = pulp.LpProblem(\"Problème d'optimisation entière\", pulp.LpMinimize)\n",
    "\n",
    "# Définir les variables\n",
    "x = pulp.LpVariable.dicts(\"x\", range(3), lowBound=None, cat=pulp.LpInteger)\n",
    "\n",
    "# Définir les contraintes\n",
    "A = [[-1, -1, -2],\n",
    "     [ 2,  1,  1],\n",
    "     [-1,  0,  1],\n",
    "     [ 1,  1,  2],\n",
    "     [-1, -2, -1],\n",
    "     [ 0,  1, -1]]\n",
    "#b = [-3, -1,  5,  3, -2,  0]\n",
    "#b = [0,   1,  0, -1,  2,  0]\n",
    "b = [0,   1,  0,  1,  1,  -1]\n",
    "\n",
    "b = [2,   0, -1,   0,  1,  0]\n",
    "\n",
    "for i, row in enumerate(A):\n",
    "    prob += pulp.lpSum(row[j] * x[j] for j in range(3)) <= b[i]\n",
    "\n",
    "# Résoudre le problème\n",
    "prob.solve()\n",
    "\n",
    "print(\"Statut de la solution:\", pulp.LpStatus[prob.status])\n",
    "print(\"Solution optimale:\")\n",
    "\n",
    "sol = []\n",
    "for v in prob.variables():\n",
    "    if v.varValue is not None:\n",
    "        print(v.name, \"=\", int(v.varValue))\n",
    "        sol.append((v.varValue))\n",
    "    #else:\n",
    "        #print(v.name, \"n'a pas de valeur attribuée\")\n",
    "\n",
    "print(sol)\n",
    "\n",
    "\n",
    "rho= np.array(b)- np.dot( np.array(A), np.array(sol))\n",
    "print(rho)\n",
    "\n",
    "#print( np.linalg.det(np.array(A)))"
   ]
  },
  {
   "cell_type": "code",
   "execution_count": null,
   "metadata": {},
   "outputs": [
    {
     "ename": "NameError",
     "evalue": "name 'np' is not defined",
     "output_type": "error",
     "traceback": [
      "\u001b[0;31m---------------------------------------------------------------------------\u001b[0m",
      "\u001b[0;31mNameError\u001b[0m                                 Traceback (most recent call last)",
      "Cell \u001b[0;32mIn[1], line 2\u001b[0m\n\u001b[1;32m      1\u001b[0m [(\u001b[38;5;241m1\u001b[39m, \u001b[38;5;241m0\u001b[39m), (\u001b[38;5;241m1\u001b[39m, \u001b[38;5;241m2\u001b[39m), (\u001b[38;5;241m1\u001b[39m, \u001b[38;5;241m3\u001b[39m), (\u001b[38;5;241m2\u001b[39m, \u001b[38;5;241m0\u001b[39m), (\u001b[38;5;241m2\u001b[39m, \u001b[38;5;241m1\u001b[39m), (\u001b[38;5;241m2\u001b[39m, \u001b[38;5;241m3\u001b[39m)]\n\u001b[0;32m----> 2\u001b[0m v\u001b[38;5;241m=\u001b[39m \u001b[43mnp\u001b[49m\u001b[38;5;241m.\u001b[39marray([\u001b[38;5;241m0\u001b[39m,\u001b[38;5;241m1\u001b[39m,\u001b[38;5;241m0\u001b[39m,\u001b[38;5;241m0\u001b[39m,\u001b[38;5;241m1\u001b[39m,\u001b[38;5;241m0\u001b[39m])\n\u001b[1;32m      5\u001b[0m v1\u001b[38;5;241m=\u001b[39m np\u001b[38;5;241m.\u001b[39marray([\u001b[38;5;241m-\u001b[39m\u001b[38;5;241m1\u001b[39m,  \u001b[38;5;241m2\u001b[39m, \u001b[38;5;241m-\u001b[39m\u001b[38;5;241m1\u001b[39m,  \u001b[38;5;241m1\u001b[39m, \u001b[38;5;241m-\u001b[39m\u001b[38;5;241m1\u001b[39m,  \u001b[38;5;241m0\u001b[39m])\n\u001b[1;32m      6\u001b[0m v2\u001b[38;5;241m=\u001b[39m np\u001b[38;5;241m.\u001b[39marray([\u001b[38;5;241m-\u001b[39m\u001b[38;5;241m1\u001b[39m,  \u001b[38;5;241m1\u001b[39m,  \u001b[38;5;241m0\u001b[39m,  \u001b[38;5;241m1\u001b[39m, \u001b[38;5;241m-\u001b[39m\u001b[38;5;241m2\u001b[39m,  \u001b[38;5;241m1\u001b[39m])\n",
      "\u001b[0;31mNameError\u001b[0m: name 'np' is not defined"
     ]
    }
   ],
   "source": [
    "[(1, 0), (1, 2), (1, 3), (2, 0), (2, 1), (2, 3)]\n",
    "v= np.array([0,1,0,0,1,0])\n",
    "\n",
    "\n",
    "v1= np.array([-1,  2, -1,  1, -1,  0])\n",
    "v2= np.array([-1,  1,  0,  1, -2,  1])\n",
    "v3= np.array([-2,  1,  1,  2, -1, -1])\n",
    "\n",
    "\n",
    "\n",
    "c1= random.randint(-5,5)\n",
    "c3= random.randint(-5,5)\n",
    "c2= random.randint(-5,5)\n",
    "v = v+ c1*v1 + c2*v2 + c3*v3\n",
    "\n",
    "#\n"
   ]
  },
  {
   "cell_type": "code",
   "execution_count": null,
   "metadata": {},
   "outputs": [
    {
     "name": "stdout",
     "output_type": "stream",
     "text": [
      "[-3 -1  5  3 -2  0] -3 2 2\n"
     ]
    }
   ],
   "source": [
    "print(v,c1,c2,c3)"
   ]
  },
  {
   "cell_type": "code",
   "execution_count": null,
   "metadata": {},
   "outputs": [
    {
     "name": "stdout",
     "output_type": "stream",
     "text": [
      "[-8 12 -4  8 -8  0]\n",
      "[-8 11 -3  8 -9  1]\n"
     ]
    }
   ],
   "source": [
    "print(5*v1 + v2 + v3)\n",
    "print(c1*v1 + c2*v2 + c3*v3)"
   ]
  },
  {
   "cell_type": "code",
   "execution_count": null,
   "metadata": {},
   "outputs": [
    {
     "name": "stdout",
     "output_type": "stream",
     "text": [
      "Solution du système d'inéquations:\n",
      "x = [ 0.49319407 -0.74319471  0.37500089]\n",
      "[0.50000114 0.38180568 0.11819318 0.49999886 0.38180554 0.1181956 ]\n"
     ]
    }
   ],
   "source": [
    "import cvxpy as cp\n",
    "import numpy as np\n",
    "\n",
    "# Définir les variables\n",
    "n = 3  # Nombre de variables\n",
    "x = cp.Variable(n)\n",
    "\n",
    "\n",
    "A = np.array([[-1, -1, -2],\n",
    "     [ 2,  1,  1],\n",
    "     [-1,  0,  1],\n",
    "     [ 1,  1,  2],\n",
    "     [-1, -2, -1],\n",
    "     [ 0,  1, -1]])\n",
    "#b = [-3, -1,  5,  3, -2,  0]\n",
    "#b = [0,   1,  0, -1,  2,  0]\n",
    "b = np.array([0,   1,  0,  1,  1,  -1])\n",
    "\n",
    "#b = np.array([0,   1,  0,  -1,  2,  0])\n",
    "constraints = [A @ x <= b]\n",
    "\n",
    "# Définir la fonction objectif (nulle car nous cherchons à résoudre uniquement les contraintes)\n",
    "objective = cp.Minimize(0)\n",
    "\n",
    "# Définir le problème d'optimisation\n",
    "problem = cp.Problem(objective, constraints)\n",
    "\n",
    "# Résoudre le problème avec le solveur ECOS\n",
    "problem.solve(solver=cp.ECOS)\n",
    "\n",
    "# Afficher la solution\n",
    "print(\"Solution du système d'inéquations:\")\n",
    "print(\"x =\", x.value)\n",
    "\n",
    "sol= x.value\n",
    "rho= np.array(b)- np.dot( np.array(A), np.array(sol))\n",
    "\n",
    "print((rho))\n"
   ]
  },
  {
   "cell_type": "code",
   "execution_count": null,
   "metadata": {},
   "outputs": [
    {
     "name": "stdout",
     "output_type": "stream",
     "text": [
      "[1 0 0 1 0 0]  +  [-1  1  0  0  0  0]   [0.24319186 0.00680858 0.1250002 ]\n",
      "[1 0 0 1 0 0]  +  [ 1  0 -1  0  0  0]   None\n",
      "[1 0 0 1 0 0]  +  [ 0  0  0 -1  1  0]   [-0.00680858 -0.24319186 -0.1250002 ]\n",
      "[1 0 0 1 0 0]  +  [ 0  0  0  1  0 -1]   None\n",
      "[1 0 0 0 1 0]  +  [-1  1  0  0  0  0]   [ 3.32424142e-01 -3.32424142e-01  2.12850795e-11]\n",
      "[1 0 0 0 1 0]  +  [ 1  0 -1  0  0  0]   [ 0.5 -0.5 -0.5]\n",
      "[1 0 0 0 1 0]  +  [ 0  0  0 -1  1  0]   [ 0.0824237  -0.58242396 -0.24999987]\n",
      "[1 0 0 0 1 0]  +  [ 0  0  0  1  0 -1]   [ 0.25 -0.75  0.25]\n",
      "[1 0 0 0 0 1]  +  [-1  1  0  0  0  0]   [ 0.08242251  0.417578   -0.25000026]\n",
      "[1 0 0 0 0 1]  +  [ 1  0 -1  0  0  0]   [ 0.25  0.25 -0.75]\n",
      "[1 0 0 0 0 1]  +  [ 0  0  0 -1  1  0]   [-0.16757759  0.16757791 -0.50000016]\n",
      "[1 0 0 0 0 1]  +  [ 0  0  0  1  0 -1]   [ 4.1205036e-10 -4.1205036e-10  1.6941336e-24]\n",
      "[0 1 0 1 0 0]  +  [-1  1  0  0  0  0]   [ 0.58242395 -0.0824237   0.24999987]\n",
      "[0 1 0 1 0 0]  +  [ 1  0 -1  0  0  0]   [ 0.75 -0.25 -0.25]\n",
      "[0 1 0 1 0 0]  +  [ 0  0  0 -1  1  0]   [ 3.32424142e-01 -3.32424142e-01  2.12850795e-11]\n",
      "[0 1 0 1 0 0]  +  [ 0  0  0  1  0 -1]   [ 0.5 -0.5  0.5]\n",
      "[0 1 0 0 1 0]  +  [-1  1  0  0  0  0]   None\n",
      "[0 1 0 0 1 0]  +  [ 1  0 -1  0  0  0]   [ 0.74319471 -0.49319407 -0.37500089]\n",
      "[0 1 0 0 1 0]  +  [ 0  0  0 -1  1  0]   None\n",
      "[0 1 0 0 1 0]  +  [ 0  0  0  1  0 -1]   [ 0.49319407 -0.74319471  0.37500089]\n",
      "[0 1 0 0 0 1]  +  [-1  1  0  0  0  0]   None\n",
      "[0 1 0 0 0 1]  +  [ 1  0 -1  0  0  0]   [ 0.49319151  0.25680898 -0.62500038]\n",
      "[0 1 0 0 0 1]  +  [ 0  0  0 -1  1  0]   None\n",
      "[0 1 0 0 0 1]  +  [ 0  0  0  1  0 -1]   [0.24319186 0.00680858 0.1250002 ]\n",
      "[0 0 1 1 0 0]  +  [-1  1  0  0  0  0]   [-0.16757791  0.16757759  0.50000016]\n",
      "[0 0 1 1 0 0]  +  [ 1  0 -1  0  0  0]   [ 4.1205036e-10 -4.1205036e-10  1.6941336e-24]\n",
      "[0 0 1 1 0 0]  +  [ 0  0  0 -1  1  0]   [-0.417578   -0.08242251  0.25000026]\n",
      "[0 0 1 1 0 0]  +  [ 0  0  0  1  0 -1]   [-0.25 -0.25  0.75]\n",
      "[0 0 1 0 1 0]  +  [-1  1  0  0  0  0]   None\n",
      "[0 0 1 0 1 0]  +  [ 1  0 -1  0  0  0]   [-0.00680858 -0.24319186 -0.1250002 ]\n",
      "[0 0 1 0 1 0]  +  [ 0  0  0 -1  1  0]   None\n",
      "[0 0 1 0 1 0]  +  [ 0  0  0  1  0 -1]   [-0.25680898 -0.49319151  0.62500038]\n",
      "[0 0 1 0 0 1]  +  [-1  1  0  0  0  0]   None\n",
      "[0 0 1 0 0 1]  +  [ 1  0 -1  0  0  0]   [-0.25680823  0.50680784 -0.37499946]\n",
      "[0 0 1 0 0 1]  +  [ 0  0  0 -1  1  0]   None\n",
      "[0 0 1 0 0 1]  +  [ 0  0  0  1  0 -1]   [-0.50680784  0.25680823  0.37499946]\n"
     ]
    }
   ],
   "source": [
    "c = np.array([[1,   0,  0,  1,  0,  0],\n",
    "              [1,   0,  0,  0,  1,  0],\n",
    "              [1,   0,  0,  0,  0,  1],\n",
    "              [0,   1,  0,  1,  0,  0],\n",
    "              [0,   1,  0,  0,  1,  0],\n",
    "              [0,   1,  0,  0,  0,  1],\n",
    "              [0,   0,  1,  1,  0,  0],\n",
    "              [0,   0,  1,  0,  1,  0],\n",
    "              [0,   0,  1,  0,  0,  1]])\n",
    "\n",
    "\n",
    "p = np.array([[-1,   1,  0,  0,  0,  0],\n",
    "                [1,   0,  -1,  0,  0,  0],\n",
    "                [0,  0,  0, -1,   1,  0],\n",
    "                [0,  0,  0, 1,   0,  -1]])\n",
    "\n",
    "\n",
    "import cvxpy as cp\n",
    "import numpy as np\n",
    "\n",
    "# Définir les variables\n",
    "n = 3  # Nombre de variables\n",
    "x = cp.Variable(n)\n",
    "\n",
    "\n",
    "A = np.array([[-1, -1, -2],\n",
    "     [ 2,  1,  1],\n",
    "     [-1,  0,  1],\n",
    "     [ 1,  1,  2],\n",
    "     [-1, -2, -1],\n",
    "     [ 0,  1, -1]])\n",
    "\n",
    "\n",
    "for i in c:\n",
    "    for j in p:\n",
    "        b= i+j\n",
    "        #if any(b<0): \n",
    "            \n",
    "        constraints = [A @ x <= b]\n",
    "        objective = cp.Minimize(0)\n",
    "        problem = cp.Problem(objective, constraints)\n",
    "        problem.solve(solver=cp.ECOS)\n",
    "\n",
    "        # Afficher la solution\n",
    "        print(i, \" + \", j, \" \", x.value)\n",
    "            \n",
    "\n",
    "            \n",
    "             "
   ]
  },
  {
   "cell_type": "code",
   "execution_count": null,
   "metadata": {},
   "outputs": [
    {
     "data": {
      "text/plain": [
       "65"
      ]
     },
     "execution_count": 6,
     "metadata": {},
     "output_type": "execute_result"
    }
   ],
   "source": [
    "a= (5**5)%85\n",
    "a\n"
   ]
  }
 ],
 "metadata": {
  "kernelspec": {
   "display_name": "Python 3",
   "language": "python",
   "name": "python3"
  },
  "language_info": {
   "codemirror_mode": {
    "name": "ipython",
    "version": 3
   },
   "file_extension": ".py",
   "mimetype": "text/x-python",
   "name": "python",
   "nbconvert_exporter": "python",
   "pygments_lexer": "ipython3",
   "version": "3.10.12"
  }
 },
 "nbformat": 4,
 "nbformat_minor": 2
}
