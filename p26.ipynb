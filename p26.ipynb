{
 "cells": [
  {
   "cell_type": "code",
   "execution_count": 3,
   "metadata": {},
   "outputs": [
    {
     "name": "stdout",
     "output_type": "stream",
     "text": [
      "[24, 21.01, 18, 15.01, 12, 9.01, 23.1, 20.11, 17.1, 14.11, 11.1, 8.11, 22, 19.01, 16, 13.01, 10, 7.01, 21.1, 18.11, 15.1, 12.11, 9.1, 6.11, 20, 17.01, 14, 11.01, 8, 5.01, 19.1, 16.11, 13.1, 10.11, 7.1, 4.11]\n",
      "[0, 9.001, 3.01, 12.011]\n",
      "[6, 15.001, 5.1, 14.101, 4, 13.001, 3.1, 12.101, 2, 11.001, 1.1, 10.101]\n",
      "[0, 1.1, 2, 3.01, 3.1, 4, 4.11, 5.01, 5.1, 6, 6.11, 7.01, 7.1, 8, 8.11, 9.001, 9.01, 9.1, 10, 10.101, 10.11, 11.001, 11.01, 11.1, 12, 12.011, 12.101, 12.11, 13.001, 13.01, 13.1, 14, 14.101, 14.11, 15.001, 15.01, 15.1, 16, 16.11, 17.01, 17.1, 18, 18.11, 19.01, 19.1, 20, 20.11, 21.01, 21.1, 22, 23.1, 24]\n"
     ]
    }
   ],
   "source": [
    "S1_G=[6, 5.1, 4, 3.1, 2, 1.1 ]\n",
    "S1_D=[0,3.01]\n",
    "S2_G=[18, 15.01, 12,9.01,6,3.01]\n",
    "S2_D=[0,9.001]\n",
    "\n",
    "T_G=[round(x+y,3) for x in S1_G for y in S2_G]\n",
    "T_D=[round(x+y,3) for x in S1_D for y in S2_D]\n",
    "\n",
    "G_D=[round(x+y,3) for x in S1_G for y in S2_D]\n",
    "\n",
    "PAV= T_G+G_D+T_D\n",
    "PAV.sort()\n",
    "\n",
    "print(T_G)\n",
    "print(T_D)\n",
    "print(G_D)\n",
    "\n",
    "print(PAV)"
   ]
  },
  {
   "cell_type": "code",
   "execution_count": 4,
   "metadata": {},
   "outputs": [
    {
     "name": "stdout",
     "output_type": "stream",
     "text": [
      "[20.11, 17.1, 14.11, 11.1, 8.11, 5.1, 19.01, 16.0, 13.01, 10.0, 7.01, 4.0, 18.11, 15.1, 12.11, 9.1, 6.11, 3.1, 17.01, 14.0, 11.01, 8.0, 5.01, 2.0, 16.11, 13.1, 10.11, 7.1, 4.11, 1.1, 15.01, 12.0, 9.01, 6.0, 3.01, 0.0]\n"
     ]
    }
   ],
   "source": []
  },
  {
   "cell_type": "code",
   "execution_count": 26,
   "metadata": {},
   "outputs": [
    {
     "name": "stdout",
     "output_type": "stream",
     "text": [
      "[20.11, 17.1, 14.11, 11.1, 8.11, 5.1, 19.01, 16.0, 13.01, 10.0, 7.01, 4.001, 18.11, 15.1, 12.11, 9.1, 6.11, 3.1, 17.01, 14.0, 11.01, 8.0, 5.01, 2.0, 16.11, 13.1, 10.11, 7.1, 4.11, 1.1, 15.01, 12.0, 9.01, 6.0, 3.01, 0.0]\n",
      "[True, True, True, True, True, True, True, True, True, True, True, False, True, True, True, True, True, True, True, True, True, True, True, True, True, True, True, True, True, True, True, True, True, True, True, True]\n"
     ]
    }
   ],
   "source": [
    "#Sommet2, tout gauche\n",
    "TG2= [round( int(x)-4  +  (abs((int(10*x)%10 - 1))%2)*0.1  \n",
    "            +  (abs((int(100*x)%10 - 1))%2)*0.01 + (abs((int(1000*x)%10))%2)*0.001,3) for x in T_G]\n",
    "print(TG2)\n",
    "presentTG2=[  x in PAV for x in TG2]\n",
    "print(presentTG2)"
   ]
  },
  {
   "cell_type": "code",
   "execution_count": 27,
   "metadata": {},
   "outputs": [
    {
     "name": "stdout",
     "output_type": "stream",
     "text": [
      "[23.1, 20.11, 17.1, 14.11, 11.1, 8.11, 22.0, 19.01, 16.0, 13.01, 10.0, 7.011, 21.1, 18.11, 15.1, 12.11, 9.1, 6.11, 20.0, 17.01, 14.0, 11.01, 8.0, 5.01, 19.1, 16.11, 13.1, 10.11, 7.1, 4.11, 18.0, 15.01, 12.0, 9.01, 6.0, 3.01]\n",
      "[True, True, True, True, True, True, True, True, True, True, True, False, True, True, True, True, True, True, True, True, True, True, True, True, True, True, True, True, True, True, True, True, True, True, True, True]\n"
     ]
    }
   ],
   "source": [
    "#Sommet1, tout gauche\n",
    "TG1= [round( int(x)-1  +  (abs((int(10*x)%10 - 1))%2)*0.1  \n",
    "            +  (abs((int(100*x)%10))%2)*0.01 + (abs((int(1000*x)%10))%2)*0.001 ,3) for x in T_G]\n",
    "print(TG1)\n",
    "presentTG1=[  x in PAV for x in TG1]\n",
    "print(presentTG1)"
   ]
  },
  {
   "cell_type": "code",
   "execution_count": 29,
   "metadata": {},
   "outputs": [
    {
     "name": "stdout",
     "output_type": "stream",
     "text": [
      "[6, 15.001, 5.1, 14.101, 4, 13.001, 3.1, 12.101, 2, 11.001, 1.1, 10.101]\n",
      "[5.1, 14.101, 4.01, 13.001, 3.1, 12.101, 2.0, 11.001, 1.1, 10.101, 0.0, 9.001]\n",
      "[True, True, False, True, True, True, True, True, True, True, True, True]\n"
     ]
    }
   ],
   "source": [
    "#Sommet1, gauche droite\n",
    "GD1=[round( int(x)-1  +  (abs((int(10*x)%10 - 1))%2)*0.1  \n",
    "           +  (abs((int(100*x)%10))%2)*0.01 + (abs((int(1000*x)%10))%2)*0.001 ,3) for x in G_D]\n",
    "print(G_D)\n",
    "print(GD1)\n",
    "presentGD1=[  x in PAV for x in GD1]\n",
    "print(presentGD1)"
   ]
  },
  {
   "cell_type": "code",
   "execution_count": 28,
   "metadata": {},
   "outputs": [
    {
     "name": "stdout",
     "output_type": "stream",
     "text": [
      "[6, 15.001, 5.1, 14.101, 4, 13.001, 3.1, 12.101, 2, 11.001, 1.1, 10.101]\n",
      "[2.11, 11.111, 1.0, 10.011, 0.11, 9.111, -0.99, 8.011, -1.89, 7.111, -2.99, 6.011]\n",
      "[False, False, False, False, False, False, False, False, False, False, False, False]\n"
     ]
    }
   ],
   "source": [
    "#Sommet2, gauche droite\n",
    "GD2= [round( int(x)-4  +  (abs((int(10*x)%10 - 1))%2)*0.1  \n",
    "            +  (abs((int(100*x)%10 - 1))%2)*0.01 +(abs((int(1000*x)%10))%2)*0.001 ,3) for x in G_D]\n",
    "print(G_D)\n",
    "print(GD2)\n",
    "presentGD2=[  x in PAV for x in GD2]\n",
    "print(presentGD2)"
   ]
  },
  {
   "cell_type": "code",
   "execution_count": 30,
   "metadata": {},
   "outputs": [
    {
     "name": "stdout",
     "output_type": "stream",
     "text": [
      "[15.001, 24.0, 14.111, 23.1, 13.001, 22.0, 13.001, 21.101, 12.101, 20.0, 11.001, 19.1]\n",
      "[True, True, False, True, True, True, True, False, True, True, True, True]\n"
     ]
    }
   ],
   "source": [
    "GD22= [round( int(x)+13  +  (abs((int(10*x)%10 + 1))%2)*0.1  \n",
    "            +  (abs((int(100*x)%10 + 1))%2)*0.01 +(abs((int(1000*x)%10 +1))%2)*0.001 ,3) for x in GD2]\n",
    "print(GD22)\n",
    "presentGD22=[  x in PAV for x in GD22]\n",
    "print(presentGD22)"
   ]
  },
  {
   "cell_type": "code",
   "execution_count": 34,
   "metadata": {},
   "outputs": [
    {
     "name": "stdout",
     "output_type": "stream",
     "text": [
      "[0, 9.001, 3.01, 12.011]\n",
      "[-0.9, 8.101, 2.11, 11.111]\n",
      "[False, False, False, False]\n",
      "[13.011, 21.01, 15.001, 24.0]\n",
      "[False, True, True, True]\n"
     ]
    }
   ],
   "source": [
    "#Sommet1, tout droite\n",
    "TD1=[round( int(x)-1  +  (abs((int(10*x)%10 - 1))%2)*0.1  \n",
    "           +  (abs((int(100*x)%10))%2)*0.01 + (abs((int(1000*x)%10))%2)*0.001 ,3) for x in T_D]\n",
    "print(T_D)\n",
    "print(TD1)\n",
    "presentTD1=[  x in PAV for x in TD1]\n",
    "print(presentTD1)\n",
    "\n",
    "TD12= [round( int(x)+13  +  (abs((int(10*x)%10 + 1))%2)*0.1  \n",
    "            +  (abs((int(100*x)%10 + 1))%2)*0.01 +(abs((int(1000*x)%10 +1))%2)*0.001 ,3) for x in TD1]\n",
    "print(TD12)\n",
    "presentTD12=[  x in PAV for x in TD12]\n",
    "print(presentTD12)"
   ]
  },
  {
   "cell_type": "code",
   "execution_count": 32,
   "metadata": {},
   "outputs": [
    {
     "name": "stdout",
     "output_type": "stream",
     "text": [
      "[-3.89, 5.111, -0.9, 8.101]\n",
      "[False, False, False, False]\n",
      "[10.101, 18.0, 13.011, 21.01]\n",
      "[True, True, False, True]\n"
     ]
    }
   ],
   "source": [
    "#Sommet2, tout droite\n",
    "TD2= [round( int(x)-4  +  (abs((int(10*x)%10 - 1))%2)*0.1  \n",
    "            +  (abs((int(100*x)%10 - 1))%2)*0.01 + (abs((int(1000*x)%10))%2)*0.001,3) for x in T_D]\n",
    "print(TD2)\n",
    "presentTD2=[  x in PAV for x in TD2]\n",
    "print(presentTD2)\n",
    "\n",
    "TD22= [round( int(x)+13  +  (abs((int(10*x)%10 + 1))%2)*0.1  \n",
    "            +  (abs((int(100*x)%10 + 1))%2)*0.01 +(abs((int(1000*x)%10 +1))%2)*0.001 ,3) for x in TD2]\n",
    "print(TD22)\n",
    "presentTD22=[  x in PAV for x in TD22]\n",
    "print(presentTD22)"
   ]
  }
 ],
 "metadata": {
  "kernelspec": {
   "display_name": "Python 3",
   "language": "python",
   "name": "python3"
  },
  "language_info": {
   "codemirror_mode": {
    "name": "ipython",
    "version": 3
   },
   "file_extension": ".py",
   "mimetype": "text/x-python",
   "name": "python",
   "nbconvert_exporter": "python",
   "pygments_lexer": "ipython3",
   "version": "3.11.4"
  }
 },
 "nbformat": 4,
 "nbformat_minor": 2
}
