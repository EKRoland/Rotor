{
 "cells": [
  {
   "cell_type": "code",
   "execution_count": 1,
   "metadata": {},
   "outputs": [],
   "source": [
    "import networkx as nx\n",
    "from types_definition import * \n",
    "import vector\n",
    "from vector import Vector\n",
    "from rotorconfig import RotorConfig\n",
    "from rotorgraph import RotorGraph, display_path, all_config_from_recurrent, display_grid\n",
    "from particleconfig import ParticleConfig\n",
    "from matrices import Matrix\n",
    "from arcsum import ArcSum\n",
    "import numpy as np\n",
    "from smithnormalform import matrix, snfproblem, z\n",
    "from otherfunctions import *\n",
    "import random\n",
    "\n",
    "import matplotlib.pyplot as plt\n",
    "from itertools import product\n"
   ]
  },
  {
   "cell_type": "code",
   "execution_count": 2,
   "metadata": {},
   "outputs": [
    {
     "name": "stdout",
     "output_type": "stream",
     "text": [
      "[{(1, 0, 0): 1, (3, 1, 0): 1}, {(2, 0, 0): 1, (3, 2, 0): 1}]\n"
     ]
    }
   ],
   "source": [
    "sum1= ArcSum({(1, 0, 0): 1, (2, 0, 0): 1, (3, 0, 0): -1, (3, 1, 0): 1, (3, 2, 0): 1})\n",
    "\n",
    "Cycle = find_circulation(sum1)\n",
    "\n",
    "\n",
    "if find_circulation(sum1):\n",
    "    print(Cycle)\n"
   ]
  },
  {
   "cell_type": "code",
   "execution_count": 3,
   "metadata": {},
   "outputs": [],
   "source": [
    "def send_to_sink(n: int,rotor_graph:RotorGraph, arc_sum:ArcSum,node= Node, sink=Node)-> ArcSum:\n",
    "    \"\"\"\n",
    "    In the complete graph\n",
    "    Gives the sums of arcs obtained by routing a particle on the given Node to the given Sink\n",
    "    \"\"\"\n",
    "    if (1<= node <= n-2) and (sink==0 or sink == n-1):\n",
    "        edge= (node,sink,0)\n",
    "    else:\n",
    "        raise ValueError(\"node or sink not valid\")\n",
    "    result = arc_sum + ArcSum({rotor_graph.turn(edge):1}) - ArcSum({edge:1})\n",
    "    \n",
    "    return result\n",
    "                \n"
   ]
  },
  {
   "cell_type": "code",
   "execution_count": 9,
   "metadata": {},
   "outputs": [],
   "source": [
    "\n",
    "#Test\n",
    "n=6\n",
    "sinks = {0,n-1}\n",
    "list_sinks= list(sinks)\n",
    "sinks = {0}\n",
    "\n",
    "\n",
    "rg= RotorGraph.complete_graph_with_sink(n, sinks)\n",
    "rotor_graph = rg.remove_sink_out_edges(sinks)\n",
    "\n",
    "#print(sum1)\n",
    "\n",
    "#print(send_to_sink(n,rotor_graph, sum1,2, 0))\n",
    "#print(send_to_sink(n,rotor_graph, sum1,2, 3))\n",
    "#print(list(sinks))\n"
   ]
  },
  {
   "cell_type": "code",
   "execution_count": 12,
   "metadata": {},
   "outputs": [],
   "source": [
    "def arcsum_to_rotorconfig(rotor_graph:RotorGraph, arc_sum:ArcSum)->ArcSum:\n",
    "    compteur = 0\n",
    "\n",
    "    \n",
    "    while find_circulation(arc_sum):\n",
    "        \n",
    "        compteur +=1\n",
    "        find=0\n",
    "        list_circulation = find_circulation(arc_sum)\n",
    "        for circulation in list_circulation:\n",
    "            \n",
    "            potential_result = arc_sum + rotor_graph.linear_turn_vector(circulation) - circulation\n",
    "            list_coef= list(potential_result.values())\n",
    "            \n",
    "            \n",
    "            #Test if it is a rotor config\n",
    "            if all(x >= 0 for x in list_coef):\n",
    "                arc_sum = potential_result\n",
    "                find=1\n",
    "                break\n",
    "            #Test if there is a circulation\n",
    "            elif find_circulation(potential_result):\n",
    "                arc_sum = potential_result\n",
    "                find=1\n",
    "                \n",
    "        if find == 0:\n",
    "            arc_sum = potential_result\n",
    "        #print(cas)\n",
    "   \n",
    "    \n",
    "    #print(\"Number of circulation push:\", compteur)\n",
    "    return arc_sum, compteur\n",
    "\n",
    "\n"
   ]
  },
  {
   "cell_type": "code",
   "execution_count": 10,
   "metadata": {},
   "outputs": [
    {
     "name": "stdout",
     "output_type": "stream",
     "text": [
      "1 [{(1, 2, 0): 1, (3, 1, 0): 1, (2, 3, 0): 1}, {(1, 2, 0): 1, (2, 1, 0): 1}]\n",
      "2 [{(2, 1, 0): 1, (1, 3, 0): 1, (3, 2, 0): 1}]\n",
      "None\n",
      "None\n",
      "({(3, 4, 0): 1, (1, 2, 0): 0, (2, 1, 0): 0, (2, 3, 0): 1, (3, 1, 0): 0, (1, 4, 0): 1, (2, 4, 0): 1, (2, 0, 0): -1, (1, 3, 0): 0, (3, 2, 0): 0}, 1)\n"
     ]
    },
    {
     "data": {
      "text/plain": [
       "3"
      ]
     },
     "execution_count": 10,
     "metadata": {},
     "output_type": "execute_result"
    }
   ],
   "source": [
    "# #Test\n",
    "sum1= ArcSum({(1, 2, 0): 1, (2, 1, 0): 1, (2, 0, 0): -1, (3, 1, 0): 1, (2, 3, 0): 1})\n",
    "\n",
    "sum2= ArcSum({(1, 2, 0): 0, (2, 1, 0): 1, (2, 3, 0): 0, (3, 1, 0): 0, (2, 4, 0): 1, (2, 0, 0): -1, (1, 3, 0): 1, (3, 2, 0): 1})\n",
    "\n",
    "\n",
    "Cycle1= find_circulation(sum1)\n",
    "Cycle2= find_circulation(sum2)\n",
    "\n",
    "if find_circulation(sum1):\n",
    "    print(\"1\",Cycle1)\n",
    "\n",
    "if find_circulation(sum2):\n",
    "    print(\"2\",Cycle2)\n",
    "\n",
    "sum=sum2\n",
    "print(arcsum_to_rotorconfig(rotor_graph, sum))\n",
    "\n",
    "{(1, 2, 0): 1, (2, 1, 0): 1, (2, 0, 0): -1, (3, 1, 0): 1, (2, 3, 0): 1}\n",
    "{(1, 2, 0): 1, (2, 1, 0): 1, (2, 0, 0): -1, (3, 1, 0): 1, (2, 3, 0): 1}\n",
    "3\n",
    "{(1, 2, 0): 0, (2, 1, 0): 1, (2, 3, 0): 0, (3, 1, 0): 0, (2, 4, 0): 1, (2, 0, 0): -1, (1, 3, 0): 1, (3, 2, 0): 1}\n",
    "3\n"
   ]
  },
  {
   "cell_type": "code",
   "execution_count": 15,
   "metadata": {},
   "outputs": [
    {
     "name": "stdout",
     "output_type": "stream",
     "text": [
      "rotor congig:  {1: (1, 5, 0), 2: (2, 1, 0), 3: (3, 5, 0), 4: (4, 0, 0), 5: (5, 0, 0)}  Node  2\n",
      "{(5, 0, 0): 1, (3, 5, 0): 1, (2, 1, 0): 2, (2, 0, 0): -1, (1, 5, 0): 1, (4, 0, 0): 1}\n"
     ]
    },
    {
     "ename": "KeyboardInterrupt",
     "evalue": "",
     "output_type": "error",
     "traceback": [
      "\u001b[0;31m---------------------------------------------------------------------------\u001b[0m",
      "\u001b[0;31mKeyboardInterrupt\u001b[0m                         Traceback (most recent call last)",
      "Cell \u001b[0;32mIn[15], line 24\u001b[0m\n\u001b[1;32m     22\u001b[0m config_sink \u001b[38;5;241m=\u001b[39m send_to_sink(n,rotor_graph, arc_sum,node, sink)\n\u001b[1;32m     23\u001b[0m \u001b[38;5;28mprint\u001b[39m(config_sink)\n\u001b[0;32m---> 24\u001b[0m potential_config, compteur \u001b[38;5;241m=\u001b[39m \u001b[43marcsum_to_rotorconfig\u001b[49m\u001b[43m(\u001b[49m\u001b[43mrotor_graph\u001b[49m\u001b[43m,\u001b[49m\u001b[43m \u001b[49m\u001b[43mconfig_sink\u001b[49m\u001b[43m)\u001b[49m\n\u001b[1;32m     26\u001b[0m list_coef\u001b[38;5;241m=\u001b[39m \u001b[38;5;28mlist\u001b[39m(potential_config\u001b[38;5;241m.\u001b[39mvalues())\n\u001b[1;32m     28\u001b[0m potential_config \u001b[38;5;241m=\u001b[39m ArcSum(potential_config)\n",
      "Cell \u001b[0;32mIn[12], line 22\u001b[0m, in \u001b[0;36marcsum_to_rotorconfig\u001b[0;34m(rotor_graph, arc_sum)\u001b[0m\n\u001b[1;32m     20\u001b[0m     \u001b[38;5;28;01mbreak\u001b[39;00m\n\u001b[1;32m     21\u001b[0m \u001b[38;5;66;03m#Test if there is a circulation\u001b[39;00m\n\u001b[0;32m---> 22\u001b[0m \u001b[38;5;28;01melif\u001b[39;00m \u001b[43mfind_circulation\u001b[49m\u001b[43m(\u001b[49m\u001b[43mpotential_result\u001b[49m\u001b[43m)\u001b[49m:\n\u001b[1;32m     23\u001b[0m     arc_sum \u001b[38;5;241m=\u001b[39m potential_result\n\u001b[1;32m     24\u001b[0m     find\u001b[38;5;241m=\u001b[39m\u001b[38;5;241m1\u001b[39m\n",
      "File \u001b[0;32m~/Desktop/T_rotor_V/code/Rotor/otherfunctions.py:142\u001b[0m, in \u001b[0;36mfind_circulation\u001b[0;34m(arc_sum)\u001b[0m\n\u001b[1;32m    140\u001b[0m     \u001b[38;5;28;01mif\u001b[39;00m ((edge[\u001b[38;5;241m0\u001b[39m],edge[\u001b[38;5;241m1\u001b[39m]) \u001b[38;5;129;01min\u001b[39;00m cycle_edges) \u001b[38;5;129;01mand\u001b[39;00m (count \u001b[38;5;241m>\u001b[39m\u001b[38;5;241m0\u001b[39m):\n\u001b[1;32m    141\u001b[0m         \u001b[38;5;28;01mfor\u001b[39;00m _ \u001b[38;5;129;01min\u001b[39;00m \u001b[38;5;28mrange\u001b[39m(count):\n\u001b[0;32m--> 142\u001b[0m             cycle_edges_vector \u001b[38;5;241m+\u001b[39m\u001b[38;5;241m=\u001b[39m (edge[\u001b[38;5;241m0\u001b[39m], edge[\u001b[38;5;241m1\u001b[39m], edge[\u001b[38;5;241m2\u001b[39m])\n\u001b[1;32m    143\u001b[0m         cycle_edges\u001b[38;5;241m.\u001b[39mremove((edge[\u001b[38;5;241m0\u001b[39m],edge[\u001b[38;5;241m1\u001b[39m]))\n\u001b[1;32m    146\u001b[0m \u001b[38;5;66;03m#find the minimum coefficient for the circulation\u001b[39;00m\n",
      "File \u001b[0;32m~/Desktop/T_rotor_V/code/Rotor/vector.py:72\u001b[0m, in \u001b[0;36mVector.__add__\u001b[0;34m(self, other)\u001b[0m\n\u001b[1;32m     70\u001b[0m     \u001b[38;5;28;01mexcept\u001b[39;00m \u001b[38;5;167;01mTypeError\u001b[39;00m:\n\u001b[1;32m     71\u001b[0m         \u001b[38;5;28;01mraise\u001b[39;00m \u001b[38;5;167;01mTypeError\u001b[39;00m(\u001b[38;5;124m\"\u001b[39m\u001b[38;5;124mSecond operand must be hashable or a Vector\u001b[39m\u001b[38;5;124m\"\u001b[39m)\n\u001b[0;32m---> 72\u001b[0m \u001b[38;5;28;01mreturn\u001b[39;00m \u001b[38;5;28;43mself\u001b[39;49m\u001b[38;5;241;43m.\u001b[39;49m\u001b[38;5;18;43m__class__\u001b[39;49m\u001b[43m(\u001b[49m\u001b[43mres_dic\u001b[49m\u001b[43m)\u001b[49m\n",
      "File \u001b[0;32m~/Desktop/T_rotor_V/code/Rotor/arcsum.py:36\u001b[0m, in \u001b[0;36mArcSum.__init__\u001b[0;34m(self, configuration)\u001b[0m\n\u001b[1;32m     23\u001b[0m \u001b[38;5;28;01mdef\u001b[39;00m \u001b[38;5;21m__init__\u001b[39m(\u001b[38;5;28mself\u001b[39m, configuration:\u001b[38;5;28mdict\u001b[39m\u001b[38;5;241m=\u001b[39m\u001b[38;5;28;01mNone\u001b[39;00m):\n\u001b[1;32m     24\u001b[0m \u001b[38;5;250m    \u001b[39m\u001b[38;5;124;03m\"\"\"\u001b[39;00m\n\u001b[1;32m     25\u001b[0m \u001b[38;5;124;03m    A class to represent sum of arcs.\u001b[39;00m\n\u001b[1;32m     26\u001b[0m \u001b[38;5;124;03m    It inherits all methods of the class Vector.\u001b[39;00m\n\u001b[0;32m   (...)\u001b[0m\n\u001b[1;32m     34\u001b[0m \u001b[38;5;124;03m            - None (default) which gives an empty dict\u001b[39;00m\n\u001b[1;32m     35\u001b[0m \u001b[38;5;124;03m    \"\"\"\u001b[39;00m\n\u001b[0;32m---> 36\u001b[0m     \u001b[38;5;28;01mif\u001b[39;00m \u001b[38;5;28;43misinstance\u001b[39;49m\u001b[43m(\u001b[49m\u001b[43mconfiguration\u001b[49m\u001b[43m,\u001b[49m\u001b[43m \u001b[49m\u001b[38;5;28;43mdict\u001b[39;49m\u001b[43m)\u001b[49m \u001b[38;5;129;01mor\u001b[39;00m \u001b[38;5;28mtype\u001b[39m(configuration)\u001b[38;5;241m.\u001b[39m\u001b[38;5;18m__name__\u001b[39m \u001b[38;5;241m==\u001b[39m \u001b[38;5;124m\"\u001b[39m\u001b[38;5;124mVector\u001b[39m\u001b[38;5;124m\"\u001b[39m:\n\u001b[1;32m     37\u001b[0m         \u001b[38;5;28mself\u001b[39m\u001b[38;5;241m.\u001b[39mconfiguration \u001b[38;5;241m=\u001b[39m configuration\n\u001b[1;32m     38\u001b[0m     \u001b[38;5;28;01melif\u001b[39;00m \u001b[38;5;28mtype\u001b[39m(configuration)\u001b[38;5;241m.\u001b[39m\u001b[38;5;18m__name__\u001b[39m \u001b[38;5;241m==\u001b[39m \u001b[38;5;124m\"\u001b[39m\u001b[38;5;124mRotorConfig\u001b[39m\u001b[38;5;124m\"\u001b[39m:\n",
      "\u001b[0;31mKeyboardInterrupt\u001b[0m: "
     ]
    }
   ],
   "source": [
    "####Simple ARRIVAL\n",
    "\n",
    "#Générer une config de rotor au hazard\n",
    "rho = RotorConfig(rotor_graph)\n",
    "for i in range(1,n-1):\n",
    "    eh= random.randint(0, len(rotor_graph.rotor_order[i])-1)\n",
    "    rho[i]= rotor_graph.rotor_order[i][eh]\n",
    "\n",
    "\n",
    "\n",
    "#Transformer la config de rotor en somme d'arc\n",
    "arc_sum = ArcSum(rho)\n",
    "\n",
    "#choisir un sommet au hazard\n",
    "node = random.randint(1, n-1)\n",
    "\n",
    "\n",
    "\n",
    "print(\"rotor congig: \", rho, \" Node \", node)\n",
    "\n",
    "for sink in list(sinks):\n",
    "    config_sink = send_to_sink(n,rotor_graph, arc_sum,node, sink)\n",
    "    print(config_sink)\n",
    "    potential_config, compteur = arcsum_to_rotorconfig(rotor_graph, config_sink)\n",
    "    \n",
    "    list_coef= list(potential_config.values())\n",
    "\n",
    "    potential_config = ArcSum(potential_config)\n",
    "    \n",
    "    if all(x >= 0 for x in list_coef):\n",
    "        rc= potential_config.is_rotorconfig_of(rotor_graph)\n",
    "        #print(rc )\n",
    "        #print(\"sink\", sink)\n",
    "        f_sink=sink\n",
    "\n",
    "\n",
    "#config de particule au hazard\n",
    "sigma = ParticleConfig(rotor_graph)\n",
    "sigma[node] =1 \n",
    "\n",
    "###Routage normale avec une config de rotor et de particule aux hasards\n",
    "#routage aux puits\n",
    "\n",
    "sigma_f, rho_f, info = rotor_graph.legal_routing(sigma, rho)\n",
    "\n",
    "#print(rho_f)\n",
    "\n",
    "#print(\"Sink 0:\", sigma_f[0], \" Sink \",n-1, \":\", sigma_f[n-1])\n",
    "\n",
    "print(sigma_f[f_sink]==1, f_sink)"
   ]
  },
  {
   "cell_type": "code",
   "execution_count": 16,
   "metadata": {},
   "outputs": [
    {
     "name": "stdout",
     "output_type": "stream",
     "text": [
      "None\n",
      "None\n",
      "None\n",
      "None\n",
      "None\n",
      "None\n",
      "None\n",
      "None\n",
      "None\n",
      "None\n",
      "None\n",
      "None\n",
      "None\n",
      "None\n",
      "None\n",
      "None\n",
      "None\n",
      "None\n",
      "None\n",
      "None\n",
      "None\n",
      "None\n",
      "None\n"
     ]
    },
    {
     "ename": "KeyboardInterrupt",
     "evalue": "",
     "output_type": "error",
     "traceback": [
      "\u001b[0;31m---------------------------------------------------------------------------\u001b[0m",
      "\u001b[0;31mKeyboardInterrupt\u001b[0m                         Traceback (most recent call last)",
      "Cell \u001b[0;32mIn[16], line 19\u001b[0m\n\u001b[1;32m     17\u001b[0m \u001b[38;5;28;01mfor\u001b[39;00m sink \u001b[38;5;129;01min\u001b[39;00m \u001b[38;5;28mlist\u001b[39m(sinks):\n\u001b[1;32m     18\u001b[0m     config_sink \u001b[38;5;241m=\u001b[39m send_to_sink(n,rotor_graph, arc_sum,node, sink)\n\u001b[0;32m---> 19\u001b[0m     potential_config, compteur \u001b[38;5;241m=\u001b[39m \u001b[43marcsum_to_rotorconfig\u001b[49m\u001b[43m(\u001b[49m\u001b[43mrotor_graph\u001b[49m\u001b[43m,\u001b[49m\u001b[43m \u001b[49m\u001b[43mconfig_sink\u001b[49m\u001b[43m)\u001b[49m\n\u001b[1;32m     20\u001b[0m     list_compteur\u001b[38;5;241m.\u001b[39mappend(compteur)\n\u001b[1;32m     21\u001b[0m     list_coef\u001b[38;5;241m=\u001b[39m \u001b[38;5;28mlist\u001b[39m(potential_config\u001b[38;5;241m.\u001b[39mvalues())\n",
      "Cell \u001b[0;32mIn[12], line 22\u001b[0m, in \u001b[0;36marcsum_to_rotorconfig\u001b[0;34m(rotor_graph, arc_sum)\u001b[0m\n\u001b[1;32m     20\u001b[0m     \u001b[38;5;28;01mbreak\u001b[39;00m\n\u001b[1;32m     21\u001b[0m \u001b[38;5;66;03m#Test if there is a circulation\u001b[39;00m\n\u001b[0;32m---> 22\u001b[0m \u001b[38;5;28;01melif\u001b[39;00m \u001b[43mfind_circulation\u001b[49m\u001b[43m(\u001b[49m\u001b[43mpotential_result\u001b[49m\u001b[43m)\u001b[49m:\n\u001b[1;32m     23\u001b[0m     arc_sum \u001b[38;5;241m=\u001b[39m potential_result\n\u001b[1;32m     24\u001b[0m     find\u001b[38;5;241m=\u001b[39m\u001b[38;5;241m1\u001b[39m\n",
      "File \u001b[0;32m~/Desktop/T_rotor_V/code/Rotor/otherfunctions.py:123\u001b[0m, in \u001b[0;36mfind_circulation\u001b[0;34m(arc_sum)\u001b[0m\n\u001b[1;32m    121\u001b[0m         G\u001b[38;5;241m.\u001b[39madd_edge(edge[\u001b[38;5;241m1\u001b[39m], edge[\u001b[38;5;241m0\u001b[39m])\n\u001b[1;32m    122\u001b[0m \u001b[38;5;66;03m#list of cycles\u001b[39;00m\n\u001b[0;32m--> 123\u001b[0m cycles_list \u001b[38;5;241m=\u001b[39m \u001b[38;5;28mlist\u001b[39m(\u001b[43mG\u001b[49m\u001b[38;5;241;43m.\u001b[39;49m\u001b[43mfind_directed_cycles\u001b[49m\u001b[43m(\u001b[49m\u001b[43m)\u001b[49m)\n\u001b[1;32m    125\u001b[0m cycles \u001b[38;5;241m=\u001b[39m [] \n\u001b[1;32m    126\u001b[0m [cycles\u001b[38;5;241m.\u001b[39mappend(x) \u001b[38;5;28;01mfor\u001b[39;00m x \u001b[38;5;129;01min\u001b[39;00m cycles_list \u001b[38;5;28;01mif\u001b[39;00m \u001b[38;5;28mset\u001b[39m(x) \u001b[38;5;129;01mnot\u001b[39;00m \u001b[38;5;129;01min\u001b[39;00m [\u001b[38;5;28mset\u001b[39m(y) \u001b[38;5;28;01mfor\u001b[39;00m y \u001b[38;5;129;01min\u001b[39;00m cycles] ]\n",
      "File \u001b[0;32m~/Desktop/T_rotor_V/code/Rotor/rotorgraph.py:765\u001b[0m, in \u001b[0;36mRotorGraph.find_directed_cycles\u001b[0;34m(self)\u001b[0m\n\u001b[1;32m    762\u001b[0m stack \u001b[38;5;241m=\u001b[39m [(node, [node])]\n\u001b[1;32m    764\u001b[0m \u001b[38;5;28;01mwhile\u001b[39;00m stack:\n\u001b[0;32m--> 765\u001b[0m     current, path \u001b[38;5;241m=\u001b[39m \u001b[43mstack\u001b[49m\u001b[38;5;241;43m.\u001b[39;49m\u001b[43mpop\u001b[49m\u001b[43m(\u001b[49m\u001b[43m)\u001b[49m\n\u001b[1;32m    766\u001b[0m     \u001b[38;5;28;01mif\u001b[39;00m current \u001b[38;5;129;01min\u001b[39;00m visited:\n\u001b[1;32m    767\u001b[0m         \u001b[38;5;28;01mif\u001b[39;00m current \u001b[38;5;241m==\u001b[39m path[\u001b[38;5;241m0\u001b[39m] \u001b[38;5;129;01mand\u001b[39;00m \u001b[38;5;28mlen\u001b[39m(path) \u001b[38;5;241m>\u001b[39m \u001b[38;5;241m1\u001b[39m:\n\u001b[1;32m    768\u001b[0m             \u001b[38;5;66;03m# Found a directed cycle\u001b[39;00m\n",
      "\u001b[0;31mKeyboardInterrupt\u001b[0m: "
     ]
    }
   ],
   "source": [
    "list_compteur = []\n",
    "\n",
    "#print(len(list(rotor_graph.enum_configurations())))\n",
    "#i=0\n",
    "for rho in list(rotor_graph.enum_configurations()):\n",
    "    #i+=1\n",
    "    #print(i)\n",
    "    \n",
    "    #Transformer la config de rotor en somme d'arc\n",
    "    arc_sum = ArcSum(rho)\n",
    "    \n",
    "    #choisir un sommet \n",
    "    #node = random.randint(1, n-2)\n",
    "    for node in range(1,n-1):\n",
    "        #print(\"rotor congig: \", rho, \" Node \", node)\n",
    "        f_sink=10\n",
    "        for sink in list(sinks):\n",
    "            config_sink = send_to_sink(n,rotor_graph, arc_sum,node, sink)\n",
    "            potential_config, compteur = arcsum_to_rotorconfig(rotor_graph, config_sink)\n",
    "            list_compteur.append(compteur)\n",
    "            list_coef= list(potential_config.values())\n",
    "\n",
    "            potential_config = ArcSum(potential_config)\n",
    "            \n",
    "            if all(x >= 0 for x in list_coef):\n",
    "                rc= potential_config.is_rotorconfig_of(rotor_graph)\n",
    "                f_sink=sink\n",
    "\n",
    "\n",
    "        #config de particule au hazard\n",
    "        sigma = ParticleConfig(rotor_graph)\n",
    "        sigma[node] =1 \n",
    "\n",
    "        ###Routage normale avec une config de rotor et de particule aux hasards\n",
    "        #routage aux puits\n",
    "\n",
    "        sigma_f, rho_f, info = rotor_graph.legal_routing(sigma, rho)\n",
    "\n",
    "        #print(sigma_f[f_sink]==1, f_sink)\n",
    "\n",
    "        if sigma_f[f_sink]!=1:\n",
    "            print(\"pas bon\")\n",
    "            print(rho, node, f_sink)\n",
    "            print(sigma_f)\n",
    "            \n",
    "print(max(list_compteur))\n",
    "            \n",
    "    "
   ]
  },
  {
   "cell_type": "code",
   "execution_count": null,
   "metadata": {},
   "outputs": [
    {
     "name": "stdout",
     "output_type": "stream",
     "text": [
      "rotor config:  {1: (1, 0, 0), 2: (2, 1, 0), 3: (3, 0, 0), 4: (4, 3, 0)}  Node  4\n",
      "{(1, 0, 0): 1, (4, 1, 0): 1, (3, 0, 0): 1, (4, 3, 0): 1, (2, 1, 0): 1, (4, 0, 0): -1} 0\n",
      "{(1, 0, 0): 1, (3, 0, 0): 1, (4, 3, 0): 1, (2, 1, 0): 1, (4, 5, 0): -1, (4, 0, 0): 1} 5\n",
      "False 10\n"
     ]
    }
   ],
   "source": [
    "####Verification\n",
    "{1: (1, 0, 0), 2: (2, 1, 0), 3: (3, 0, 0), 4: (4, 3, 0)} \n",
    "4\n",
    "#Générer une config de rotor au hazard\n",
    "rho = RotorConfig(rotor_graph)\n",
    "#print(rho)\n",
    "rho = RotorConfig({1: (1, 0, 0), 2: (2, 1, 0), 3: (3, 0, 0), 4: (4, 3, 0)}  )\n",
    "\n",
    "arc_sum = ArcSum(rho)\n",
    "\n",
    "#choisir un sommet au hazard\n",
    "node = 4\n",
    "\n",
    "\n",
    "print(\"rotor config: \", rho, \" Node \", node)\n",
    "\n",
    "f_sink=10\n",
    "for sink in list(sinks):\n",
    "    config_sink = send_to_sink(n,rotor_graph, arc_sum,node, sink)\n",
    "    print(config_sink, sink)\n",
    "    potential_config, compteur = arcsum_to_rotorconfig(rotor_graph, config_sink)\n",
    "    #print(potential_config)\n",
    "    list_coef= list(potential_config.values())\n",
    "\n",
    "    potential_config = ArcSum(potential_config)\n",
    "    if all(x >= 0 for x in list_coef):\n",
    "        rc= potential_config.is_rotorconfig_of(rotor_graph)\n",
    "        print(rc )\n",
    "        print(\"sink\", sink)\n",
    "        f_sink=sink\n",
    "\n",
    "\n",
    "#config de particule au hazard\n",
    "sigma = ParticleConfig(rotor_graph)\n",
    "sigma[node] =1 \n",
    "\n",
    "###Routage normale avec une config de rotor et de particule aux hasards\n",
    "#routage aux puits\n",
    "\n",
    "sigma_f, rho_f, info = rotor_graph.legal_routing(sigma, rho)\n",
    "\n",
    "#print(rho_f)\n",
    "\n",
    "\n",
    "#print(\"Sink 0:\", sigma_f[0], \" Sink \",n-1, \":\", sigma_f[n-1])\n",
    "\n",
    "print(sigma_f[f_sink]==1, f_sink)"
   ]
  },
  {
   "cell_type": "code",
   "execution_count": null,
   "metadata": {},
   "outputs": [
    {
     "name": "stdout",
     "output_type": "stream",
     "text": [
      "[{(1, 0, 0): 1, (4, 1, 0): 1, (4, 0, 0): -1}, {(3, 0, 0): 1, (4, 3, 0): 1, (4, 0, 0): -1}]\n"
     ]
    }
   ],
   "source": [
    "sum2=ArcSum({(1, 0, 0): 1, (4, 1, 0): 1, (3, 0, 0): 1, (4, 3, 0): 1, (2, 1, 0): 1, (4, 0, 0): -1})\n",
    "print(find_circulation(sum2))\n",
    "\n",
    "# print(arcsum_to_rotorconfig(rotor_graph, sum2))\n",
    "\n",
    "# sum3=ArcSum({(1, 0, 0): 1, (3, 0, 0): 1, (4, 3, 0): 1, (2, 1, 0): 1, (4, 5, 0): -1, (4, 0, 0): 1})\n",
    "\n",
    "# print(find_circulation(sum3))\n",
    "\n",
    "#\n",
    "#sum3=ArcSum( {(4, 3, 0): 1, (1, 2, 0): 1, (3, 0, 0): 0, (3, 1, 0): -1, (1, 0, 0): 0, (2, 0, 0): 1, (3, 2, 0): 2})\n",
    "#print(find_circulation(sum3))\n"
   ]
  }
 ],
 "metadata": {
  "kernelspec": {
   "display_name": "Python 3",
   "language": "python",
   "name": "python3"
  },
  "language_info": {
   "codemirror_mode": {
    "name": "ipython",
    "version": 3
   },
   "file_extension": ".py",
   "mimetype": "text/x-python",
   "name": "python",
   "nbconvert_exporter": "python",
   "pygments_lexer": "ipython3",
   "version": "3.10.12"
  }
 },
 "nbformat": 4,
 "nbformat_minor": 2
}
